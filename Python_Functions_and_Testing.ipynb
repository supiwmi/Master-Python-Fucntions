{
  "nbformat": 4,
  "nbformat_minor": 0,
  "metadata": {
    "colab": {
      "provenance": [],
      "toc_visible": true,
      "authorship_tag": "ABX9TyNnuopB8uoa434w5unpmG6V",
      "include_colab_link": true
    },
    "kernelspec": {
      "name": "python3",
      "display_name": "Python 3"
    },
    "language_info": {
      "name": "python"
    }
  },
  "cells": [
    {
      "cell_type": "markdown",
      "metadata": {
        "id": "view-in-github",
        "colab_type": "text"
      },
      "source": [
        "<a href=\"https://colab.research.google.com/github/supiwmi/Master-Python-Fucntions/blob/dev/Python_Functions_and_Testing.ipynb\" target=\"_parent\"><img src=\"https://colab.research.google.com/assets/colab-badge.svg\" alt=\"Open In Colab\"/></a>"
      ]
    },
    {
      "cell_type": "markdown",
      "source": [
        "### Python Functions"
      ],
      "metadata": {
        "id": "Cq7vLLa0pWRD"
      }
    },
    {
      "cell_type": "code",
      "source": [
        "# functions are defined with `def`, name and parens i.e. my_funciton(), and a colon :\n",
        "def my_function():\n",
        "  print(\"This is my function\")\n",
        "  #return 1\n",
        "\n",
        "# you 'call functions with its name:\n",
        "my_function()\n",
        "#print(my_function())"
      ],
      "metadata": {
        "colab": {
          "base_uri": "https://localhost:8080/"
        },
        "id": "JRQCsGIGpaiB",
        "outputId": "bd58f6ce-fb4c-48d4-e07e-c778193409b2"
      },
      "execution_count": 3,
      "outputs": [
        {
          "output_type": "stream",
          "name": "stdout",
          "text": [
            "This is my function\n"
          ]
        }
      ]
    },
    {
      "cell_type": "code",
      "source": [
        "# Python functions return `None` implicitly even if you don't return anything\n",
        "def implicit():\n",
        "  print(\"return I am doing stuff over there\")\n",
        "  #return \"I am doing stuff over there\"\n",
        "\n",
        "value = implicit()\n",
        "print(\"The value of the variable is: {}\".format(value))"
      ],
      "metadata": {
        "colab": {
          "base_uri": "https://localhost:8080/"
        },
        "id": "1G88G3JercOb",
        "outputId": "94f6f0d9-e78c-4301-a919-3c2c9e723830"
      },
      "execution_count": 6,
      "outputs": [
        {
          "output_type": "stream",
          "name": "stdout",
          "text": [
            "return I am doing stuff over there\n",
            "The value of the variable is: None\n"
          ]
        }
      ]
    },
    {
      "cell_type": "code",
      "source": [
        "# Explicitly return values if you need to process them elsewhere:\n",
        "def explicit():\n",
        "  return \"An explicit string\"\n",
        "\n",
        "value = explicit()\n",
        "if value.endswith(\" string\"):\n",
        "  print(\"Got a good value from explicit() funciton\")\n",
        "else:\n",
        "  print(\"Didn't get something useful from calling explicite() funciton\")"
      ],
      "metadata": {
        "colab": {
          "base_uri": "https://localhost:8080/"
        },
        "id": "CJxXvg6Ws09k",
        "outputId": "48d1244e-0f92-4aa0-8b52-57df8b1044c2"
      },
      "execution_count": 10,
      "outputs": [
        {
          "output_type": "stream",
          "name": "stdout",
          "text": [
            "Got a good value from explicit() funciton\n"
          ]
        }
      ]
    }
  ]
}