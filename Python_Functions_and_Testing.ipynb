{
  "nbformat": 4,
  "nbformat_minor": 0,
  "metadata": {
    "colab": {
      "provenance": [],
      "toc_visible": true,
      "authorship_tag": "ABX9TyMmFhTeTEIyU+1oGwU3uq8Z",
      "include_colab_link": true
    },
    "kernelspec": {
      "name": "python3",
      "display_name": "Python 3"
    },
    "language_info": {
      "name": "python"
    }
  },
  "cells": [
    {
      "cell_type": "markdown",
      "metadata": {
        "id": "view-in-github",
        "colab_type": "text"
      },
      "source": [
        "<a href=\"https://colab.research.google.com/github/supiwmi/Master-Python-Fucntions/blob/dev/Python_Functions_and_Testing.ipynb\" target=\"_parent\"><img src=\"https://colab.research.google.com/assets/colab-badge.svg\" alt=\"Open In Colab\"/></a>"
      ]
    },
    {
      "cell_type": "markdown",
      "source": [
        "### Python Functions\n",
        "\n",
        "Similar to other programming languages, Python allows us to assign a name to a code block that performs a computation (business logic). These name code blocks are **functions**, **subroutines**, or **procedures** which can be reused because we can call their name from a diffrent places in our code.\n",
        "\n",
        "To write a Python function, you need a header that starts with the def keyword, followed by the name of the function, an optional list of comma-separated arguments inside a required pair of parentheses, and a final colon.\n",
        "\n",
        "The second component of a function is its code block, or body. Python defines code blocks using indentation instead of brackets, begin and end keywords, and so on. So, to define a function in Python you can use the following syntax:"
      ],
      "metadata": {
        "id": "Cq7vLLa0pWRD"
      }
    },
    {
      "cell_type": "code",
      "source": [
        "# Python\n",
        "\n",
        "def function_name(arg1, arg2,..., argN):\n",
        "    # Function's code goes here...\n",
        "    pass"
      ],
      "metadata": {
        "id": "9Ie1vTw7JZX1"
      },
      "execution_count": null,
      "outputs": []
    },
    {
      "cell_type": "code",
      "source": [
        "# functions are defined with `def`, name and parentheses i.e. my_funciton(), and a colon :\n",
        "def my_function():\n",
        "  print(\"This is my function\")\n",
        "  #return 1\n",
        "\n",
        "# you 'call functions with its name:\n",
        "my_function()\n",
        "#print(my_function())"
      ],
      "metadata": {
        "colab": {
          "base_uri": "https://localhost:8080/"
        },
        "id": "JRQCsGIGpaiB",
        "outputId": "bd58f6ce-fb4c-48d4-e07e-c778193409b2"
      },
      "execution_count": null,
      "outputs": [
        {
          "output_type": "stream",
          "name": "stdout",
          "text": [
            "This is my function\n"
          ]
        }
      ]
    },
    {
      "cell_type": "code",
      "source": [
        "# Python functions return `None` implicitly even if you don't return anything\n",
        "def implicit():\n",
        "  print(\"return I am doing stuff over there\")\n",
        "  #return \"I am doing stuff over there\"\n",
        "\n",
        "value = implicit()\n",
        "print(\"The value of the variable is: {}\".format(value))"
      ],
      "metadata": {
        "colab": {
          "base_uri": "https://localhost:8080/"
        },
        "id": "1G88G3JercOb",
        "outputId": "94f6f0d9-e78c-4301-a919-3c2c9e723830"
      },
      "execution_count": null,
      "outputs": [
        {
          "output_type": "stream",
          "name": "stdout",
          "text": [
            "return I am doing stuff over there\n",
            "The value of the variable is: None\n"
          ]
        }
      ]
    },
    {
      "cell_type": "code",
      "source": [
        "# Explicitly return values if you need to process them elsewhere:\n",
        "def explicit():\n",
        "  return \"An explicit string\"\n",
        "\n",
        "value = explicit()\n",
        "if value.endswith(\" string\"):\n",
        "  print(\"Got a good value from explicit() funciton\")\n",
        "else:\n",
        "  print(\"Didn't get something useful from calling explicite() funciton\")"
      ],
      "metadata": {
        "colab": {
          "base_uri": "https://localhost:8080/"
        },
        "id": "CJxXvg6Ws09k",
        "outputId": "e595484a-45fa-443f-acfe-b27b06094edf"
      },
      "execution_count": null,
      "outputs": [
        {
          "output_type": "stream",
          "name": "stdout",
          "text": [
            "Got a good value from explicit() funciton\n"
          ]
        }
      ]
    },
    {
      "cell_type": "code",
      "source": [
        "# what about accepting input? Functions allow a number of different inputs:\n",
        "def input_marco(name):\n",
        "  if name == \"Marco\":\n",
        "    print(\"Polo\")\n",
        "  else:\n",
        "    print(\"I don't know you who are you!  try again\")\n",
        "input_marco(\"Mark\")\n",
        "input_marco(\"Marco\")"
      ],
      "metadata": {
        "colab": {
          "base_uri": "https://localhost:8080/"
        },
        "id": "Z3HbyVoXuB1R",
        "outputId": "3a2f12b3-f709-43c3-cee1-872962cca5c3"
      },
      "execution_count": null,
      "outputs": [
        {
          "output_type": "stream",
          "name": "stdout",
          "text": [
            "I don't know you who are you!  try again\n",
            "Polo\n"
          ]
        }
      ]
    },
    {
      "cell_type": "code",
      "source": [
        "# The return value is still None even though it is printing, just like before:\n",
        "result = input_marco(\"James\")\n",
        "print(result)"
      ],
      "metadata": {
        "colab": {
          "base_uri": "https://localhost:8080/"
        },
        "id": "lujO66Rev6Hr",
        "outputId": "242268d3-4a79-460a-a01f-be76db519007"
      },
      "execution_count": null,
      "outputs": [
        {
          "output_type": "stream",
          "name": "stdout",
          "text": [
            "I don't know you who are you!  try again\n",
            "None\n"
          ]
        }
      ]
    },
    {
      "cell_type": "code",
      "source": [
        "# The return, can be explicit again and thing can happen:\n",
        "def input_marco(name):\n",
        "  if name == \"Marco\":\n",
        "    return True\n",
        "  return False\n",
        "print(input_marco(\"Alfredo\"))\n",
        "print(input_marco(\"Marco\"))"
      ],
      "metadata": {
        "colab": {
          "base_uri": "https://localhost:8080/"
        },
        "id": "YAaNPOd4wJyx",
        "outputId": "6723be88-db42-4317-fb4b-30d7c9773b02"
      },
      "execution_count": null,
      "outputs": [
        {
          "output_type": "stream",
          "name": "stdout",
          "text": [
            "False\n",
            "True\n"
          ]
        }
      ]
    },
    {
      "cell_type": "code",
      "source": [
        "# Don't get confused with closures, they are just nested functions!\n",
        "def name_organizer(name):\n",
        "  def ensure_list(name):\n",
        "    if isinstance(name, list):\n",
        "      return name\n",
        "    else:\n",
        "      return name.split()\n",
        "  firstname, lastname = ensure_list(name)\n",
        "  return {\"firstname\": firstname, \"lastname\": lastname}\n",
        "\n",
        "print(name_organizer(\"Alfredo Deza\"))\n",
        "print(name_organizer([\"Suparuek\", \"Puttakhot\"]))"
      ],
      "metadata": {
        "colab": {
          "base_uri": "https://localhost:8080/"
        },
        "id": "xHrGol9fxfNo",
        "outputId": "0e4c1af5-1735-4fea-9f4c-f74d7053fb27"
      },
      "execution_count": null,
      "outputs": [
        {
          "output_type": "stream",
          "name": "stdout",
          "text": [
            "{'firstname': 'Alfredo', 'lastname': 'Deza'}\n",
            "{'firstname': 'Suparuek', 'lastname': 'Puttakhot'}\n"
          ]
        }
      ]
    },
    {
      "cell_type": "code",
      "source": [
        "# Functions can accept named variables, in this way it is required:\n",
        "def naming (first, last, nickname):\n",
        "    print(f\"{first} {last}, has a nick name as: {nickname}\")\n",
        "\n",
        "# Call the function naming()\n",
        "naming(\"Sup\", \"Per\", \"\")\n",
        "naming(\"Suparuek\", \"Puttakhot\", \"Sup\") \n",
        "#naming(\"Suparuek\", \"Puttakhot\")"
      ],
      "metadata": {
        "colab": {
          "base_uri": "https://localhost:8080/"
        },
        "id": "NZPPsM1I137n",
        "outputId": "6752bad2-8cba-4543-8768-1cd4b1bdc4d4"
      },
      "execution_count": null,
      "outputs": [
        {
          "output_type": "stream",
          "name": "stdout",
          "text": [
            "Sup Per, has a nick name as: \n",
            "Suparuek Puttakhot, has a nick name as: Sup\n"
          ]
        }
      ]
    },
    {
      "cell_type": "markdown",
      "source": [
        "# Conclusion\n",
        "The Python return statement allows us to send any Python object from our custom functions back to the caller code. This statement is a fundamental part of any Python function or method. If we master how to use it, then we’ll be ready to code robust functions."
      ],
      "metadata": {
        "id": "mAUFB1ahMS7n"
      }
    },
    {
      "cell_type": "markdown",
      "source": [
        "Python scripts\n",
        "Python code runs from a file with the .py extension:"
      ],
      "metadata": {
        "id": "5Z8VEZR4jKcc"
      }
    },
    {
      "cell_type": "code",
      "source": [
        "# This is my first Python script\n",
        "print('Hello world!')"
      ],
      "metadata": {
        "id": "ZoHoFE1jjJ0e",
        "outputId": "7aad9a3a-dcb9-4e36-da13-1450dcfb6468",
        "colab": {
          "base_uri": "https://localhost:8080/"
        }
      },
      "execution_count": 1,
      "outputs": [
        {
          "output_type": "stream",
          "name": "stdout",
          "text": [
            "Hello world!\n"
          ]
        }
      ]
    },
    {
      "cell_type": "code",
      "source": [],
      "metadata": {
        "id": "CsaACO9ZjkZ5"
      },
      "execution_count": null,
      "outputs": []
    },
    {
      "cell_type": "markdown",
      "source": [
        "Save this code to a file named hello.py. To invoke the script, in a shell run python followed by the filename:\n",
        "\n",
        "$ python hello.py\n",
        "Hello world!\n",
        "\n",
        "```\n",
        "# This is formatted as code\n",
        "```\n",
        "\n"
      ],
      "metadata": {
        "id": "gqY2lD16jbhE"
      }
    },
    {
      "cell_type": "markdown",
      "source": [
        "Basic Math\n",
        "Basic math operations such as addition, subtraction, multiplication, and division can all be performed using built-in math operators:"
      ],
      "metadata": {
        "id": "mfstYJxbjvOY"
      }
    },
    {
      "cell_type": "code",
      "source": [
        "1+1"
      ],
      "metadata": {
        "id": "0vv_oRB8jdp1",
        "outputId": "87bb60d0-2310-47a9-efa3-94da7a1ff662",
        "colab": {
          "base_uri": "https://localhost:8080/"
        }
      },
      "execution_count": 4,
      "outputs": [
        {
          "output_type": "execute_result",
          "data": {
            "text/plain": [
              "2"
            ]
          },
          "metadata": {},
          "execution_count": 4
        }
      ]
    },
    {
      "cell_type": "code",
      "source": [
        "2-5"
      ],
      "metadata": {
        "id": "nyr2GHJ1j2HE",
        "outputId": "c84a62b7-1a3b-44ac-c57a-5ef562f41d30",
        "colab": {
          "base_uri": "https://localhost:8080/"
        }
      },
      "execution_count": 6,
      "outputs": [
        {
          "output_type": "execute_result",
          "data": {
            "text/plain": [
              "-3"
            ]
          },
          "metadata": {},
          "execution_count": 6
        }
      ]
    },
    {
      "cell_type": "code",
      "source": [
        "2*2"
      ],
      "metadata": {
        "id": "8v6OHk3kj5u7",
        "outputId": "5e81c03b-3cf8-400d-8ddd-93249ab7e5da",
        "colab": {
          "base_uri": "https://localhost:8080/"
        }
      },
      "execution_count": 8,
      "outputs": [
        {
          "output_type": "execute_result",
          "data": {
            "text/plain": [
              "4"
            ]
          },
          "metadata": {},
          "execution_count": 8
        }
      ]
    },
    {
      "cell_type": "code",
      "source": [
        "4/8"
      ],
      "metadata": {
        "id": "G9S9CVZUj_Jc",
        "outputId": "a9445aba-c56f-4bf5-d292-098d6f0957a5",
        "colab": {
          "base_uri": "https://localhost:8080/"
        }
      },
      "execution_count": 9,
      "outputs": [
        {
          "output_type": "execute_result",
          "data": {
            "text/plain": [
              "0.5"
            ]
          },
          "metadata": {},
          "execution_count": 9
        }
      ]
    },
    {
      "cell_type": "markdown",
      "source": [
        "Note that a // symbol is for integer division. The symbol ** creates an exponent, and % is the modulo operator:"
      ],
      "metadata": {
        "id": "iXEBVag0kNxe"
      }
    },
    {
      "cell_type": "markdown",
      "source": [],
      "metadata": {
        "id": "zUSxFbtKkNjN"
      }
    },
    {
      "cell_type": "code",
      "source": [
        "13//6"
      ],
      "metadata": {
        "id": "tH_sxMcTkP-3",
        "outputId": "c3ecd8a0-b326-49fa-fc3c-ab780dc864b9",
        "colab": {
          "base_uri": "https://localhost:8080/"
        }
      },
      "execution_count": 12,
      "outputs": [
        {
          "output_type": "execute_result",
          "data": {
            "text/plain": [
              "2"
            ]
          },
          "metadata": {},
          "execution_count": 12
        }
      ]
    },
    {
      "cell_type": "code",
      "source": [
        "2**8"
      ],
      "metadata": {
        "id": "jCLvQNWckXL0",
        "outputId": "96fbc39b-675f-47e4-8aef-c26c175f202d",
        "colab": {
          "base_uri": "https://localhost:8080/"
        }
      },
      "execution_count": 14,
      "outputs": [
        {
          "output_type": "execute_result",
          "data": {
            "text/plain": [
              "256"
            ]
          },
          "metadata": {},
          "execution_count": 14
        }
      ]
    },
    {
      "cell_type": "code",
      "source": [
        "10%3"
      ],
      "metadata": {
        "id": "Vh-YCuTykilC",
        "outputId": "f9fb1baa-cdcd-48c7-f635-d5968b57b931",
        "colab": {
          "base_uri": "https://localhost:8080/"
        }
      },
      "execution_count": 16,
      "outputs": [
        {
          "output_type": "execute_result",
          "data": {
            "text/plain": [
              "1"
            ]
          },
          "metadata": {},
          "execution_count": 16
        }
      ]
    },
    {
      "cell_type": "markdown",
      "source": [
        "Comments\n",
        "Comments are text ignored by the Python interpreter. They are useful for documentation of code and can be mined by some services to provide standalone documentation. Single-line comments are delineated by prepending with #. A single-line comment can start at the beginning of a line, or at any point thereafter. Everything after the # is part of the comment until a new line break occurs:"
      ],
      "metadata": {
        "id": "Ipj4v5ZmkwdX"
      }
    },
    {
      "cell_type": "code",
      "source": [
        "# This is a comment\n",
        "1 + 1 # This comment follows a statement"
      ],
      "metadata": {
        "id": "R1IoGe1pk0oV",
        "outputId": "5bcfa7ac-c453-4a59-caee-dc8ea8997a93",
        "colab": {
          "base_uri": "https://localhost:8080/"
        }
      },
      "execution_count": 18,
      "outputs": [
        {
          "output_type": "execute_result",
          "data": {
            "text/plain": [
              "2"
            ]
          },
          "metadata": {},
          "execution_count": 18
        }
      ]
    },
    {
      "cell_type": "markdown",
      "source": [
        "Multiline comments are enclosed themselves in blocks beginning and ending with either \"\"\" or ''':\n",
        "\n",
        "\"\"\"\n",
        "This statement is a block comment.\n",
        "It can run for multiple lines\n",
        "\"\"\"\n",
        "\n",
        "'''\n",
        "This statement is also a block comment\n",
        "'''\n"
      ],
      "metadata": {
        "id": "nkE6tNy0k-tI"
      }
    },
    {
      "cell_type": "markdown",
      "source": [
        "Built-in Functions\n",
        "\n",
        "The print function produces output that a user of a program can view. It is less relevant in interactive environments but is a fundamental tool when writing Python scripts. In the previous example, the argument to the print function is written as output when the script runs:"
      ],
      "metadata": {
        "id": "dA5zLc9wlFGw"
      }
    },
    {
      "cell_type": "markdown",
      "source": [
        "# This is my first Python script\n",
        "print(\"Hello world!\")\n",
        "\n",
        "$ python hello.py\n",
        "Hello world!"
      ],
      "metadata": {
        "id": "xm0wPPJflPLA"
      }
    },
    {
      "cell_type": "markdown",
      "source": [
        "Range\n",
        "\n",
        "Though range is a built-in function, it is technically not a function at all. It is a type representing a sequence of numbers. When calling the range() constructor, an object representing a sequence of numbers is returned. Range objects count through a sequence of numbers. The range function takes up to three integer arguments. If only one argument appears, then the sequence is represented by the numbers from zero up to, but not including, that number. If a second argument appears, it represents the starting point, rather than the default of starting from 0. The third argument can be used to specify the step distance, and it defaults to 1."
      ],
      "metadata": {
        "id": "2rUbfAFElVZS"
      }
    },
    {
      "cell_type": "code",
      "source": [
        "range(10)"
      ],
      "metadata": {
        "id": "Rwnn3PkQlYM_",
        "outputId": "12db99d6-3373-4d30-c36a-cd078c759605",
        "colab": {
          "base_uri": "https://localhost:8080/"
        }
      },
      "execution_count": 19,
      "outputs": [
        {
          "output_type": "execute_result",
          "data": {
            "text/plain": [
              "range(0, 10)"
            ]
          },
          "metadata": {},
          "execution_count": 19
        }
      ]
    },
    {
      "cell_type": "code",
      "source": [
        "list (range(10))"
      ],
      "metadata": {
        "id": "g6e6Ngpdlejr",
        "outputId": "c60720bf-c704-4aaa-afdf-524c09bf0415",
        "colab": {
          "base_uri": "https://localhost:8080/"
        }
      },
      "execution_count": 21,
      "outputs": [
        {
          "output_type": "execute_result",
          "data": {
            "text/plain": [
              "[0, 1, 2, 3, 4, 5, 6, 7, 8, 9]"
            ]
          },
          "metadata": {},
          "execution_count": 21
        }
      ]
    },
    {
      "cell_type": "code",
      "source": [
        "list(range(5, 10))"
      ],
      "metadata": {
        "id": "ch7GRiSFlrBZ",
        "outputId": "72c8033d-3b74-4f87-aece-5afdf6b14fb4",
        "colab": {
          "base_uri": "https://localhost:8080/"
        }
      },
      "execution_count": 22,
      "outputs": [
        {
          "output_type": "execute_result",
          "data": {
            "text/plain": [
              "[5, 6, 7, 8, 9]"
            ]
          },
          "metadata": {},
          "execution_count": 22
        }
      ]
    },
    {
      "cell_type": "code",
      "source": [
        "list(range(5, 10, 3))"
      ],
      "metadata": {
        "id": "1UdtEySbl7je",
        "outputId": "87bcc0ac-c1dd-44f0-d6f3-5678165c6249",
        "colab": {
          "base_uri": "https://localhost:8080/"
        }
      },
      "execution_count": 23,
      "outputs": [
        {
          "output_type": "execute_result",
          "data": {
            "text/plain": [
              "[5, 8]"
            ]
          },
          "metadata": {},
          "execution_count": 23
        }
      ]
    },
    {
      "cell_type": "markdown",
      "source": [
        "range maintains a small memory footprint, even over extended sequences, as it only stores the start, stop, and step values. The range function can iterate through long sequences of numbers without performance constraints."
      ],
      "metadata": {
        "id": "0JUXUqffl_wF"
      }
    }
  ]
}