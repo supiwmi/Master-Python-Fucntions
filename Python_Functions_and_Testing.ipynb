{
  "nbformat": 4,
  "nbformat_minor": 0,
  "metadata": {
    "colab": {
      "provenance": [],
      "toc_visible": true,
      "authorship_tag": "ABX9TyMYaKYEXiTTeQXFN8STAohx",
      "include_colab_link": true
    },
    "kernelspec": {
      "name": "python3",
      "display_name": "Python 3"
    },
    "language_info": {
      "name": "python"
    }
  },
  "cells": [
    {
      "cell_type": "markdown",
      "metadata": {
        "id": "view-in-github",
        "colab_type": "text"
      },
      "source": [
        "<a href=\"https://colab.research.google.com/github/supiwmi/Master-Python-Fucntions/blob/dev/Python_Functions_and_Testing.ipynb\" target=\"_parent\"><img src=\"https://colab.research.google.com/assets/colab-badge.svg\" alt=\"Open In Colab\"/></a>"
      ]
    },
    {
      "cell_type": "markdown",
      "source": [
        "### Python Functions\n",
        "\n",
        "Similar to other programming languages, Python allows us to assign a name to a code block that performs a computation (business logic). These name code blocks are **functions**, **subroutines**, or **procedures** which can be reused because we can call their name from a diffrent places in our code.\n",
        "\n",
        "To write a Python function, you need a header that starts with the def keyword, followed by the name of the function, an optional list of comma-separated arguments inside a required pair of parentheses, and a final colon.\n",
        "\n",
        "The second component of a function is its code block, or body. Python defines code blocks using indentation instead of brackets, begin and end keywords, and so on. So, to define a function in Python you can use the following syntax:"
      ],
      "metadata": {
        "id": "Cq7vLLa0pWRD"
      }
    },
    {
      "cell_type": "code",
      "source": [
        "# Python\n",
        "\n",
        "def function_name(arg1, arg2,..., argN):\n",
        "    # Function's code goes here...\n",
        "    pass"
      ],
      "metadata": {
        "id": "9Ie1vTw7JZX1"
      },
      "execution_count": null,
      "outputs": []
    },
    {
      "cell_type": "code",
      "source": [
        "# functions are defined with `def`, name and parentheses i.e. my_funciton(), and a colon :\n",
        "def my_function():\n",
        "  print(\"This is my function\")\n",
        "  #return 1\n",
        "\n",
        "# you 'call functions with its name:\n",
        "my_function()\n",
        "#print(my_function())"
      ],
      "metadata": {
        "colab": {
          "base_uri": "https://localhost:8080/"
        },
        "id": "JRQCsGIGpaiB",
        "outputId": "bd58f6ce-fb4c-48d4-e07e-c778193409b2"
      },
      "execution_count": null,
      "outputs": [
        {
          "output_type": "stream",
          "name": "stdout",
          "text": [
            "This is my function\n"
          ]
        }
      ]
    },
    {
      "cell_type": "code",
      "source": [
        "# Python functions return `None` implicitly even if you don't return anything\n",
        "def implicit():\n",
        "  print(\"return I am doing stuff over there\")\n",
        "  #return \"I am doing stuff over there\"\n",
        "\n",
        "value = implicit()\n",
        "print(\"The value of the variable is: {}\".format(value))"
      ],
      "metadata": {
        "colab": {
          "base_uri": "https://localhost:8080/"
        },
        "id": "1G88G3JercOb",
        "outputId": "94f6f0d9-e78c-4301-a919-3c2c9e723830"
      },
      "execution_count": null,
      "outputs": [
        {
          "output_type": "stream",
          "name": "stdout",
          "text": [
            "return I am doing stuff over there\n",
            "The value of the variable is: None\n"
          ]
        }
      ]
    },
    {
      "cell_type": "code",
      "source": [
        "# Explicitly return values if you need to process them elsewhere:\n",
        "def explicit():\n",
        "  return \"An explicit string\"\n",
        "\n",
        "value = explicit()\n",
        "if value.endswith(\" string\"):\n",
        "  print(\"Got a good value from explicit() funciton\")\n",
        "else:\n",
        "  print(\"Didn't get something useful from calling explicite() funciton\")"
      ],
      "metadata": {
        "colab": {
          "base_uri": "https://localhost:8080/"
        },
        "id": "CJxXvg6Ws09k",
        "outputId": "e595484a-45fa-443f-acfe-b27b06094edf"
      },
      "execution_count": null,
      "outputs": [
        {
          "output_type": "stream",
          "name": "stdout",
          "text": [
            "Got a good value from explicit() funciton\n"
          ]
        }
      ]
    },
    {
      "cell_type": "code",
      "source": [
        "# what about accepting input? Functions allow a number of different inputs:\n",
        "def input_marco(name):\n",
        "  if name == \"Marco\":\n",
        "    print(\"Polo\")\n",
        "  else:\n",
        "    print(\"I don't know you who are you!  try again\")\n",
        "input_marco(\"Mark\")\n",
        "input_marco(\"Marco\")"
      ],
      "metadata": {
        "colab": {
          "base_uri": "https://localhost:8080/"
        },
        "id": "Z3HbyVoXuB1R",
        "outputId": "3a2f12b3-f709-43c3-cee1-872962cca5c3"
      },
      "execution_count": null,
      "outputs": [
        {
          "output_type": "stream",
          "name": "stdout",
          "text": [
            "I don't know you who are you!  try again\n",
            "Polo\n"
          ]
        }
      ]
    },
    {
      "cell_type": "code",
      "source": [
        "# The return value is still None even though it is printing, just like before:\n",
        "result = input_marco(\"James\")\n",
        "print(result)"
      ],
      "metadata": {
        "colab": {
          "base_uri": "https://localhost:8080/"
        },
        "id": "lujO66Rev6Hr",
        "outputId": "242268d3-4a79-460a-a01f-be76db519007"
      },
      "execution_count": null,
      "outputs": [
        {
          "output_type": "stream",
          "name": "stdout",
          "text": [
            "I don't know you who are you!  try again\n",
            "None\n"
          ]
        }
      ]
    },
    {
      "cell_type": "code",
      "source": [
        "# The return, can be explicit again and thing can happen:\n",
        "def input_marco(name):\n",
        "  if name == \"Marco\":\n",
        "    return True\n",
        "  return False\n",
        "print(input_marco(\"Alfredo\"))\n",
        "print(input_marco(\"Marco\"))"
      ],
      "metadata": {
        "colab": {
          "base_uri": "https://localhost:8080/"
        },
        "id": "YAaNPOd4wJyx",
        "outputId": "6723be88-db42-4317-fb4b-30d7c9773b02"
      },
      "execution_count": null,
      "outputs": [
        {
          "output_type": "stream",
          "name": "stdout",
          "text": [
            "False\n",
            "True\n"
          ]
        }
      ]
    },
    {
      "cell_type": "code",
      "source": [
        "# Don't get confused with closures, they are just nested functions!\n",
        "def name_organizer(name):\n",
        "  def ensure_list(name):\n",
        "    if isinstance(name, list):\n",
        "      return name\n",
        "    else:\n",
        "      return name.split()\n",
        "  firstname, lastname = ensure_list(name)\n",
        "  return {\"firstname\": firstname, \"lastname\": lastname}\n",
        "\n",
        "print(name_organizer(\"Alfredo Deza\"))\n",
        "print(name_organizer([\"Suparuek\", \"Puttakhot\"]))"
      ],
      "metadata": {
        "colab": {
          "base_uri": "https://localhost:8080/"
        },
        "id": "xHrGol9fxfNo",
        "outputId": "0e4c1af5-1735-4fea-9f4c-f74d7053fb27"
      },
      "execution_count": null,
      "outputs": [
        {
          "output_type": "stream",
          "name": "stdout",
          "text": [
            "{'firstname': 'Alfredo', 'lastname': 'Deza'}\n",
            "{'firstname': 'Suparuek', 'lastname': 'Puttakhot'}\n"
          ]
        }
      ]
    },
    {
      "cell_type": "code",
      "source": [
        "# Functions can accept named variables, in this way it is required:\n",
        "def naming (first, last, nickname):\n",
        "    print(f\"{first} {last}, has a nick name as: {nickname}\")\n",
        "\n",
        "# Call the function naming()\n",
        "naming(\"Sup\", \"Per\", \"\")\n",
        "naming(\"Suparuek\", \"Puttakhot\", \"Sup\") \n",
        "#naming(\"Suparuek\", \"Puttakhot\")"
      ],
      "metadata": {
        "colab": {
          "base_uri": "https://localhost:8080/"
        },
        "id": "NZPPsM1I137n",
        "outputId": "6752bad2-8cba-4543-8768-1cd4b1bdc4d4"
      },
      "execution_count": null,
      "outputs": [
        {
          "output_type": "stream",
          "name": "stdout",
          "text": [
            "Sup Per, has a nick name as: \n",
            "Suparuek Puttakhot, has a nick name as: Sup\n"
          ]
        }
      ]
    },
    {
      "cell_type": "markdown",
      "source": [
        "# Conclusion\n",
        "The Python return statement allows us to send any Python object from our custom functions back to the caller code. This statement is a fundamental part of any Python function or method. If we master how to use it, then we’ll be ready to code robust functions."
      ],
      "metadata": {
        "id": "mAUFB1ahMS7n"
      }
    },
    {
      "cell_type": "markdown",
      "source": [
        "Python scripts\n",
        "Python code runs from a file with the .py extension:"
      ],
      "metadata": {
        "id": "5Z8VEZR4jKcc"
      }
    },
    {
      "cell_type": "code",
      "source": [
        "# This is my first Python script\n",
        "print('Hello world!')"
      ],
      "metadata": {
        "colab": {
          "base_uri": "https://localhost:8080/"
        },
        "id": "ZoHoFE1jjJ0e",
        "outputId": "7aad9a3a-dcb9-4e36-da13-1450dcfb6468"
      },
      "execution_count": 1,
      "outputs": [
        {
          "output_type": "stream",
          "name": "stdout",
          "text": [
            "Hello world!\n"
          ]
        }
      ]
    },
    {
      "cell_type": "code",
      "source": [],
      "metadata": {
        "id": "CsaACO9ZjkZ5"
      },
      "execution_count": null,
      "outputs": []
    },
    {
      "cell_type": "markdown",
      "source": [
        "Save this code to a file named hello.py. To invoke the script, in a shell run python followed by the filename:\n",
        "\n",
        "$ python hello.py\n",
        "Hello world!\n",
        "\n",
        "```\n",
        "# This is formatted as code\n",
        "```\n",
        "\n"
      ],
      "metadata": {
        "id": "gqY2lD16jbhE"
      }
    },
    {
      "cell_type": "markdown",
      "source": [
        "Basic Math\n",
        "Basic math operations such as addition, subtraction, multiplication, and division can all be performed using built-in math operators:"
      ],
      "metadata": {
        "id": "mfstYJxbjvOY"
      }
    },
    {
      "cell_type": "code",
      "source": [
        "1+1"
      ],
      "metadata": {
        "colab": {
          "base_uri": "https://localhost:8080/"
        },
        "id": "0vv_oRB8jdp1",
        "outputId": "87bb60d0-2310-47a9-efa3-94da7a1ff662"
      },
      "execution_count": 4,
      "outputs": [
        {
          "output_type": "execute_result",
          "data": {
            "text/plain": [
              "2"
            ]
          },
          "metadata": {},
          "execution_count": 4
        }
      ]
    },
    {
      "cell_type": "code",
      "source": [
        "2-5"
      ],
      "metadata": {
        "colab": {
          "base_uri": "https://localhost:8080/"
        },
        "id": "nyr2GHJ1j2HE",
        "outputId": "c84a62b7-1a3b-44ac-c57a-5ef562f41d30"
      },
      "execution_count": 6,
      "outputs": [
        {
          "output_type": "execute_result",
          "data": {
            "text/plain": [
              "-3"
            ]
          },
          "metadata": {},
          "execution_count": 6
        }
      ]
    },
    {
      "cell_type": "code",
      "source": [
        "2*2"
      ],
      "metadata": {
        "colab": {
          "base_uri": "https://localhost:8080/"
        },
        "id": "8v6OHk3kj5u7",
        "outputId": "5e81c03b-3cf8-400d-8ddd-93249ab7e5da"
      },
      "execution_count": 8,
      "outputs": [
        {
          "output_type": "execute_result",
          "data": {
            "text/plain": [
              "4"
            ]
          },
          "metadata": {},
          "execution_count": 8
        }
      ]
    },
    {
      "cell_type": "code",
      "source": [
        "4/8"
      ],
      "metadata": {
        "colab": {
          "base_uri": "https://localhost:8080/"
        },
        "id": "G9S9CVZUj_Jc",
        "outputId": "a9445aba-c56f-4bf5-d292-098d6f0957a5"
      },
      "execution_count": 9,
      "outputs": [
        {
          "output_type": "execute_result",
          "data": {
            "text/plain": [
              "0.5"
            ]
          },
          "metadata": {},
          "execution_count": 9
        }
      ]
    },
    {
      "cell_type": "markdown",
      "source": [
        "Note that a // symbol is for integer division. The symbol ** creates an exponent, and % is the modulo operator:"
      ],
      "metadata": {
        "id": "iXEBVag0kNxe"
      }
    },
    {
      "cell_type": "markdown",
      "source": [],
      "metadata": {
        "id": "zUSxFbtKkNjN"
      }
    },
    {
      "cell_type": "code",
      "source": [
        "13//6"
      ],
      "metadata": {
        "colab": {
          "base_uri": "https://localhost:8080/"
        },
        "id": "tH_sxMcTkP-3",
        "outputId": "c3ecd8a0-b326-49fa-fc3c-ab780dc864b9"
      },
      "execution_count": 12,
      "outputs": [
        {
          "output_type": "execute_result",
          "data": {
            "text/plain": [
              "2"
            ]
          },
          "metadata": {},
          "execution_count": 12
        }
      ]
    },
    {
      "cell_type": "code",
      "source": [
        "2**8"
      ],
      "metadata": {
        "colab": {
          "base_uri": "https://localhost:8080/"
        },
        "id": "jCLvQNWckXL0",
        "outputId": "96fbc39b-675f-47e4-8aef-c26c175f202d"
      },
      "execution_count": 14,
      "outputs": [
        {
          "output_type": "execute_result",
          "data": {
            "text/plain": [
              "256"
            ]
          },
          "metadata": {},
          "execution_count": 14
        }
      ]
    },
    {
      "cell_type": "code",
      "source": [
        "10%3"
      ],
      "metadata": {
        "colab": {
          "base_uri": "https://localhost:8080/"
        },
        "id": "Vh-YCuTykilC",
        "outputId": "f9fb1baa-cdcd-48c7-f635-d5968b57b931"
      },
      "execution_count": 16,
      "outputs": [
        {
          "output_type": "execute_result",
          "data": {
            "text/plain": [
              "1"
            ]
          },
          "metadata": {},
          "execution_count": 16
        }
      ]
    },
    {
      "cell_type": "markdown",
      "source": [
        "Comments\n",
        "Comments are text ignored by the Python interpreter. They are useful for documentation of code and can be mined by some services to provide standalone documentation. Single-line comments are delineated by prepending with #. A single-line comment can start at the beginning of a line, or at any point thereafter. Everything after the # is part of the comment until a new line break occurs:"
      ],
      "metadata": {
        "id": "Ipj4v5ZmkwdX"
      }
    },
    {
      "cell_type": "code",
      "source": [
        "# This is a comment\n",
        "1 + 1 # This comment follows a statement"
      ],
      "metadata": {
        "colab": {
          "base_uri": "https://localhost:8080/"
        },
        "id": "R1IoGe1pk0oV",
        "outputId": "5bcfa7ac-c453-4a59-caee-dc8ea8997a93"
      },
      "execution_count": 18,
      "outputs": [
        {
          "output_type": "execute_result",
          "data": {
            "text/plain": [
              "2"
            ]
          },
          "metadata": {},
          "execution_count": 18
        }
      ]
    },
    {
      "cell_type": "markdown",
      "source": [
        "Multiline comments are enclosed themselves in blocks beginning and ending with either \"\"\" or ''':\n",
        "\n",
        "\"\"\"\n",
        "This statement is a block comment.\n",
        "It can run for multiple lines\n",
        "\"\"\"\n",
        "\n",
        "'''\n",
        "This statement is also a block comment\n",
        "'''\n"
      ],
      "metadata": {
        "id": "nkE6tNy0k-tI"
      }
    },
    {
      "cell_type": "markdown",
      "source": [
        "Built-in Functions\n",
        "\n",
        "The print function produces output that a user of a program can view. It is less relevant in interactive environments but is a fundamental tool when writing Python scripts. In the previous example, the argument to the print function is written as output when the script runs:"
      ],
      "metadata": {
        "id": "dA5zLc9wlFGw"
      }
    },
    {
      "cell_type": "markdown",
      "source": [
        "# This is my first Python script\n",
        "print(\"Hello world!\")\n",
        "\n",
        "$ python hello.py\n",
        "Hello world!"
      ],
      "metadata": {
        "id": "xm0wPPJflPLA"
      }
    },
    {
      "cell_type": "markdown",
      "source": [
        "Range\n",
        "\n",
        "Though range is a built-in function, it is technically not a function at all. It is a type representing a sequence of numbers. When calling the range() constructor, an object representing a sequence of numbers is returned. Range objects count through a sequence of numbers. The range function takes up to three integer arguments. If only one argument appears, then the sequence is represented by the numbers from zero up to, but not including, that number. If a second argument appears, it represents the starting point, rather than the default of starting from 0. The third argument can be used to specify the step distance, and it defaults to 1."
      ],
      "metadata": {
        "id": "2rUbfAFElVZS"
      }
    },
    {
      "cell_type": "code",
      "source": [
        "range(10)"
      ],
      "metadata": {
        "colab": {
          "base_uri": "https://localhost:8080/"
        },
        "id": "Rwnn3PkQlYM_",
        "outputId": "12db99d6-3373-4d30-c36a-cd078c759605"
      },
      "execution_count": 19,
      "outputs": [
        {
          "output_type": "execute_result",
          "data": {
            "text/plain": [
              "range(0, 10)"
            ]
          },
          "metadata": {},
          "execution_count": 19
        }
      ]
    },
    {
      "cell_type": "code",
      "source": [
        "list (range(10))"
      ],
      "metadata": {
        "colab": {
          "base_uri": "https://localhost:8080/"
        },
        "id": "g6e6Ngpdlejr",
        "outputId": "c60720bf-c704-4aaa-afdf-524c09bf0415"
      },
      "execution_count": 21,
      "outputs": [
        {
          "output_type": "execute_result",
          "data": {
            "text/plain": [
              "[0, 1, 2, 3, 4, 5, 6, 7, 8, 9]"
            ]
          },
          "metadata": {},
          "execution_count": 21
        }
      ]
    },
    {
      "cell_type": "code",
      "source": [
        "list(range(5, 10))"
      ],
      "metadata": {
        "colab": {
          "base_uri": "https://localhost:8080/"
        },
        "id": "ch7GRiSFlrBZ",
        "outputId": "72c8033d-3b74-4f87-aece-5afdf6b14fb4"
      },
      "execution_count": 22,
      "outputs": [
        {
          "output_type": "execute_result",
          "data": {
            "text/plain": [
              "[5, 6, 7, 8, 9]"
            ]
          },
          "metadata": {},
          "execution_count": 22
        }
      ]
    },
    {
      "cell_type": "code",
      "source": [
        "list(range(5, 10, 3))"
      ],
      "metadata": {
        "colab": {
          "base_uri": "https://localhost:8080/"
        },
        "id": "1UdtEySbl7je",
        "outputId": "87bcc0ac-c1dd-44f0-d6f3-5678165c6249"
      },
      "execution_count": 23,
      "outputs": [
        {
          "output_type": "execute_result",
          "data": {
            "text/plain": [
              "[5, 8]"
            ]
          },
          "metadata": {},
          "execution_count": 23
        }
      ]
    },
    {
      "cell_type": "markdown",
      "source": [
        "range maintains a small memory footprint, even over extended sequences, as it only stores the start, stop, and step values. The range function can iterate through long sequences of numbers without performance constraints."
      ],
      "metadata": {
        "id": "0JUXUqffl_wF"
      }
    },
    {
      "cell_type": "markdown",
      "source": [
        "### Execution Control\n"
      ],
      "metadata": {
        "id": "ekH3Yy2TmZ1C"
      }
    },
    {
      "cell_type": "markdown",
      "source": [
        "Python has many constructs to control the flow of statement execution. You can group statements you wish to run together as a block of code. These blocks can be run multiple times using for and while loops or only run under certain conditions using `if` statements, `while` loops, or `try-except` blocks. Using these constructs is the first step to taking advantage of the power of programming. Different languages demarcate blocks of code using different conventions. Many languages with syntax similar to the C language (a very influential language used in writing Unix) use curly brackets around a group of statements to define a block. In Python, indentation is used to indicate a block. Statements are grouped by indentation into blocks that execute as a unit.\n",
        "\n",
        "### if/elif/else\n",
        "\n",
        "if/elif/else statements are common ways to branch between decisions in code. A block directly after an if statement runs if that statement evaluates to True:\n"
      ],
      "metadata": {
        "id": "gKYi0gM_mdqc"
      }
    },
    {
      "cell_type": "code",
      "source": [
        "i = 45\n",
        "if i == 45:\n",
        "  print('i is 45')\n"
      ],
      "metadata": {
        "id": "T1aeAMagmm0D",
        "outputId": "f19ad79d-b948-49cc-ce2e-81daaa62994b",
        "colab": {
          "base_uri": "https://localhost:8080/"
        }
      },
      "execution_count": 24,
      "outputs": [
        {
          "output_type": "stream",
          "name": "stdout",
          "text": [
            "i is 45\n"
          ]
        }
      ]
    },
    {
      "cell_type": "code",
      "source": [
        "i = 35\n",
        "if i == 45:\n",
        "  print('i is 45')\n",
        "elif i == 35:\n",
        "  print('i is 23')"
      ],
      "metadata": {
        "id": "XiFWXnxEm9ZM",
        "outputId": "d8ce450e-6cbb-4c5f-e546-e54d415e6224",
        "colab": {
          "base_uri": "https://localhost:8080/"
        }
      },
      "execution_count": 26,
      "outputs": [
        {
          "output_type": "stream",
          "name": "stdout",
          "text": [
            "i is 23\n"
          ]
        }
      ]
    },
    {
      "cell_type": "markdown",
      "source": [
        "### for Loops\n",
        "\n",
        "`for` loops allow you to repeat a block of statements (a code block) once for each member of a sequence (ordered group of items). As you iterate through the sequence, the current item can be accessed by the code block. One of most common uses of loops is to iterate through a range object to do a task a set number of times:"
      ],
      "metadata": {
        "id": "H7aGQDzcnjY0"
      }
    },
    {
      "cell_type": "code",
      "source": [
        "for i in range(12):\n",
        "  x = i*2\n",
        "  print(x)"
      ],
      "metadata": {
        "id": "jaQliuhSnpZP",
        "outputId": "6396dd2c-c51e-480c-89ed-69c6268a2c73",
        "colab": {
          "base_uri": "https://localhost:8080/"
        }
      },
      "execution_count": 27,
      "outputs": [
        {
          "output_type": "stream",
          "name": "stdout",
          "text": [
            "0\n",
            "2\n",
            "4\n",
            "6\n",
            "8\n",
            "10\n",
            "12\n",
            "14\n",
            "16\n",
            "18\n",
            "20\n",
            "22\n"
          ]
        }
      ]
    },
    {
      "cell_type": "markdown",
      "source": [
        "### continue\n",
        "\n",
        "The continue statement skips a step in a loop, jumping to the next item in the sequence:\n",
        "\n"
      ],
      "metadata": {
        "id": "3nrAovGhoCCN"
      }
    },
    {
      "cell_type": "code",
      "source": [
        "for i in range(6):\n",
        "  if i == 3:\n",
        "    continue\n",
        "  print(i)"
      ],
      "metadata": {
        "id": "AfqVWATcoEPh",
        "outputId": "3b61755b-23e3-4e97-e77c-702afaa815e9",
        "colab": {
          "base_uri": "https://localhost:8080/"
        }
      },
      "execution_count": 28,
      "outputs": [
        {
          "output_type": "stream",
          "name": "stdout",
          "text": [
            "0\n",
            "1\n",
            "2\n",
            "4\n",
            "5\n"
          ]
        }
      ]
    },
    {
      "cell_type": "markdown",
      "source": [
        "### while Loops\n",
        "\n",
        "while loops repeat a block as long as a condition evaluates to True:\n"
      ],
      "metadata": {
        "id": "od5Jr8UeoSXJ"
      }
    },
    {
      "cell_type": "code",
      "source": [
        "count = 0\n",
        "while count < 3:  \n",
        "  print(f\"The count is {count}\")\n",
        "  count += 1"
      ],
      "metadata": {
        "id": "F2v7n1DgoXcr",
        "outputId": "d0d75ed0-82fd-4548-b68a-c13696ed1a1f",
        "colab": {
          "base_uri": "https://localhost:8080/"
        }
      },
      "execution_count": 31,
      "outputs": [
        {
          "output_type": "stream",
          "name": "stdout",
          "text": [
            "The count is 0\n",
            "The count is 1\n",
            "The count is 2\n"
          ]
        }
      ]
    },
    {
      "cell_type": "markdown",
      "source": [
        "It is essential to define a way for your loop to end. Otherwise, you will be stuck in the loop until your program crashes. One way to handle this is to define your conditional statement such that it eventually evaluates to False. An alternative pattern uses the break statement to exit a loop using a nested conditional:"
      ],
      "metadata": {
        "id": "Xn8Apfm-ouUa"
      }
    },
    {
      "cell_type": "code",
      "source": [
        "count = 0\n",
        "while True:\n",
        "  print(f\"The count is {count}\")\n",
        "  if count > 5:\n",
        "    break\n",
        "  count +=1"
      ],
      "metadata": {
        "id": "P5YTwlB0otkK",
        "outputId": "f72bec85-dbef-4f8a-dfd3-0a9c8104d1dd",
        "colab": {
          "base_uri": "https://localhost:8080/"
        }
      },
      "execution_count": 32,
      "outputs": [
        {
          "output_type": "stream",
          "name": "stdout",
          "text": [
            "The count is 0\n",
            "The count is 1\n",
            "The count is 2\n",
            "The count is 3\n",
            "The count is 4\n",
            "The count is 5\n",
            "The count is 6\n"
          ]
        }
      ]
    },
    {
      "cell_type": "markdown",
      "source": [
        "\n",
        "### Handling Exceptions\n",
        "\n",
        "Exceptions are a type of error causing your program to crash if not handled (caught). Catching them with a `try-except` block allows the program to continue. These blocks are created by indenting the block in which the exception might be raised, putting a `try` statement before it and an `except `statement after it, followed by a code block that should run when the error occurs:"
      ],
      "metadata": {
        "id": "n9zWzwEnpCJ4"
      }
    },
    {
      "cell_type": "code",
      "source": [
        "thinkers = ['Plato', 'PlayDo', 'Gumby']\n",
        "while True:\n",
        "  try:\n",
        "    thinker = thinkers.pop()\n",
        "    print(thinker)\n",
        "  except IndexError as e:\n",
        "    print(\"We tried to pop too many thinkers\")\n",
        "    print(e)\n",
        "    break\n",
        "    "
      ],
      "metadata": {
        "id": "jux7kdiTpZq6",
        "outputId": "95ae085d-cf05-4672-bf21-a6bbba257aa4",
        "colab": {
          "base_uri": "https://localhost:8080/"
        }
      },
      "execution_count": 33,
      "outputs": [
        {
          "output_type": "stream",
          "name": "stdout",
          "text": [
            "Gumby\n",
            "PlayDo\n",
            "Plato\n",
            "We tried to pop too many thinkers\n",
            "pop from empty list\n"
          ]
        }
      ]
    },
    {
      "cell_type": "markdown",
      "source": [
        "### Built-in Objects\n",
        "\n",
        "In this overview, we will not be covering OOP. The Python language, however, comes with quite a few built-in classes.\n",
        "\n",
        "### What Is an Object?\n",
        "In OOP, data or state and functionality appear together. The essential concepts to understand when working with objects are class instantiation (creating objects from classes) and dot syntax (the syntax for accessing an object’s attributes and methods). A class defines attributes and methods shared by its objects. Think of it as the technical drawing of a car model. The class can then be instantiated to create an instance. The instance, or object, is a single car built based on those drawings."
      ],
      "metadata": {
        "id": "grewMtkEqE1g"
      }
    },
    {
      "cell_type": "code",
      "source": [
        "# Define a class for fancy defining fancy cars\n",
        "class FancyCar():\n",
        "  pass"
      ],
      "metadata": {
        "id": "tcxa9NQRqI5z"
      },
      "execution_count": 36,
      "outputs": []
    },
    {
      "cell_type": "code",
      "source": [
        "type(FancyCar)"
      ],
      "metadata": {
        "id": "IcjuXbt4q24l",
        "outputId": "f44c88a6-85a9-40b4-dd1d-2d19061aa63d",
        "colab": {
          "base_uri": "https://localhost:8080/"
        }
      },
      "execution_count": 38,
      "outputs": [
        {
          "output_type": "execute_result",
          "data": {
            "text/plain": [
              "type"
            ]
          },
          "metadata": {},
          "execution_count": 38
        }
      ]
    },
    {
      "cell_type": "code",
      "source": [
        "my_car = FancyCar()"
      ],
      "metadata": {
        "id": "cmqmHtNGq-ML"
      },
      "execution_count": 40,
      "outputs": []
    },
    {
      "cell_type": "code",
      "source": [
        "type(my_car)"
      ],
      "metadata": {
        "id": "2JC5fjEKrB33",
        "outputId": "4a02649b-cac9-4514-e143-d57511590422",
        "colab": {
          "base_uri": "https://localhost:8080/"
        }
      },
      "execution_count": 41,
      "outputs": [
        {
          "output_type": "execute_result",
          "data": {
            "text/plain": [
              "__main__.FancyCar"
            ]
          },
          "metadata": {},
          "execution_count": 41
        }
      ]
    },
    {
      "cell_type": "markdown",
      "source": [
        "### Object Methods and Attributes\n",
        "\n",
        "Objects store data in attributes. These attributes are variables attached to the object or object class. Objects define functionality in object methods (methods defined for all objects in a class) and class methods (methods attached to a class and shared by all objects in the class), which are functions attached to the object.\n",
        "\n",
        "These functions have access to the object’s attributes and can modify and use the object’s data. To call an object’s method or access one of its attributes, we use dot syntax:"
      ],
      "metadata": {
        "id": "9oXf974NrKJN"
      }
    },
    {
      "cell_type": "code",
      "source": [
        "# Define a class for fancy defining fancy cars\n",
        "class FancyCar():\n",
        "  # Add a class variable\n",
        "  wheels = 4\n",
        "  # Add a method\n",
        "  def driveFast(self):\n",
        "    print(\"Driving so fast\")"
      ],
      "metadata": {
        "id": "A8_6XgrsrVpL"
      },
      "execution_count": 42,
      "outputs": []
    },
    {
      "cell_type": "code",
      "source": [
        "# Instantiate a fancy car\n",
        "my_car = FancyCar()"
      ],
      "metadata": {
        "id": "PnbB8XEvrJv8"
      },
      "execution_count": 48,
      "outputs": []
    },
    {
      "cell_type": "code",
      "source": [
        "# Access the class attribute\n",
        "my_car.wheels"
      ],
      "metadata": {
        "id": "1pu8P84jrroT",
        "outputId": "6c1c1f35-5ba2-47fe-a293-7bc6ea2d30bf",
        "colab": {
          "base_uri": "https://localhost:8080/"
        }
      },
      "execution_count": 49,
      "outputs": [
        {
          "output_type": "execute_result",
          "data": {
            "text/plain": [
              "4"
            ]
          },
          "metadata": {},
          "execution_count": 49
        }
      ]
    },
    {
      "cell_type": "code",
      "source": [
        "# Invoke the method\n",
        "my_car.driveFast()"
      ],
      "metadata": {
        "id": "keNsvECfrzw5",
        "outputId": "a586aa8d-43d0-4d0f-ba9d-006cbd2154cf",
        "colab": {
          "base_uri": "https://localhost:8080/"
        }
      },
      "execution_count": 50,
      "outputs": [
        {
          "output_type": "stream",
          "name": "stdout",
          "text": [
            "Driving so fast\n"
          ]
        }
      ]
    },
    {
      "cell_type": "markdown",
      "source": [
        "So here our FancyCar class defines a method called driveFast and an attribute wheels. When you instantiate an instance of FancyCar named my_car, you can access the attribute and invoke the method using the dot syntax."
      ],
      "metadata": {
        "id": "TSHvQZCQsH2b"
      }
    }
  ]
}