{
  "nbformat": 4,
  "nbformat_minor": 0,
  "metadata": {
    "colab": {
      "provenance": [],
      "toc_visible": true,
      "authorship_tag": "ABX9TyOfraeb5wNhdAP7dsNTi0uZ",
      "include_colab_link": true
    },
    "kernelspec": {
      "name": "python3",
      "display_name": "Python 3"
    },
    "language_info": {
      "name": "python"
    }
  },
  "cells": [
    {
      "cell_type": "markdown",
      "metadata": {
        "id": "view-in-github",
        "colab_type": "text"
      },
      "source": [
        "<a href=\"https://colab.research.google.com/github/supiwmi/Master-Python-Fucntions/blob/dev/Python_Functions_and_Testing.ipynb\" target=\"_parent\"><img src=\"https://colab.research.google.com/assets/colab-badge.svg\" alt=\"Open In Colab\"/></a>"
      ]
    },
    {
      "cell_type": "markdown",
      "source": [
        "### Python Functions\n",
        "\n",
        "Similar to other programming languages, Python allows us to assign a name to a code block that performs a computation (business logic). These name code blocks are **functions**, **subroutines**, or **procedures** which can be reused because we can call their name from a diffrent places in our code.\n",
        "\n",
        "To write a Python function, you need a header that starts with the def keyword, followed by the name of the function, an optional list of comma-separated arguments inside a required pair of parentheses, and a final colon.\n",
        "\n",
        "The second component of a function is its code block, or body. Python defines code blocks using indentation instead of brackets, begin and end keywords, and so on. So, to define a function in Python you can use the following syntax:"
      ],
      "metadata": {
        "id": "Cq7vLLa0pWRD"
      }
    },
    {
      "cell_type": "code",
      "source": [
        "# Python\n",
        "\n",
        "def function_name(arg1, arg2,..., argN):\n",
        "    # Function's code goes here...\n",
        "    pass"
      ],
      "metadata": {
        "id": "9Ie1vTw7JZX1"
      },
      "execution_count": null,
      "outputs": []
    },
    {
      "cell_type": "code",
      "source": [
        "# functions are defined with `def`, name and parentheses i.e. my_funciton(), and a colon :\n",
        "def my_function():\n",
        "  print(\"This is my function\")\n",
        "  #return 1\n",
        "\n",
        "# you 'call functions with its name:\n",
        "my_function()\n",
        "#print(my_function())"
      ],
      "metadata": {
        "colab": {
          "base_uri": "https://localhost:8080/"
        },
        "id": "JRQCsGIGpaiB",
        "outputId": "bd58f6ce-fb4c-48d4-e07e-c778193409b2"
      },
      "execution_count": null,
      "outputs": [
        {
          "output_type": "stream",
          "name": "stdout",
          "text": [
            "This is my function\n"
          ]
        }
      ]
    },
    {
      "cell_type": "code",
      "source": [
        "# Python functions return `None` implicitly even if you don't return anything\n",
        "def implicit():\n",
        "  print(\"return I am doing stuff over there\")\n",
        "  #return \"I am doing stuff over there\"\n",
        "\n",
        "value = implicit()\n",
        "print(\"The value of the variable is: {}\".format(value))"
      ],
      "metadata": {
        "colab": {
          "base_uri": "https://localhost:8080/"
        },
        "id": "1G88G3JercOb",
        "outputId": "94f6f0d9-e78c-4301-a919-3c2c9e723830"
      },
      "execution_count": null,
      "outputs": [
        {
          "output_type": "stream",
          "name": "stdout",
          "text": [
            "return I am doing stuff over there\n",
            "The value of the variable is: None\n"
          ]
        }
      ]
    },
    {
      "cell_type": "code",
      "source": [
        "# Explicitly return values if you need to process them elsewhere:\n",
        "def explicit():\n",
        "  return \"An explicit string\"\n",
        "\n",
        "value = explicit()\n",
        "if value.endswith(\" string\"):\n",
        "  print(\"Got a good value from explicit() funciton\")\n",
        "else:\n",
        "  print(\"Didn't get something useful from calling explicite() funciton\")"
      ],
      "metadata": {
        "colab": {
          "base_uri": "https://localhost:8080/"
        },
        "id": "CJxXvg6Ws09k",
        "outputId": "e595484a-45fa-443f-acfe-b27b06094edf"
      },
      "execution_count": null,
      "outputs": [
        {
          "output_type": "stream",
          "name": "stdout",
          "text": [
            "Got a good value from explicit() funciton\n"
          ]
        }
      ]
    },
    {
      "cell_type": "code",
      "source": [
        "# what about accepting input? Functions allow a number of different inputs:\n",
        "def input_marco(name):\n",
        "  if name == \"Marco\":\n",
        "    print(\"Polo\")\n",
        "  else:\n",
        "    print(\"I don't know you who are you!  try again\")\n",
        "input_marco(\"Mark\")\n",
        "input_marco(\"Marco\")"
      ],
      "metadata": {
        "colab": {
          "base_uri": "https://localhost:8080/"
        },
        "id": "Z3HbyVoXuB1R",
        "outputId": "3a2f12b3-f709-43c3-cee1-872962cca5c3"
      },
      "execution_count": null,
      "outputs": [
        {
          "output_type": "stream",
          "name": "stdout",
          "text": [
            "I don't know you who are you!  try again\n",
            "Polo\n"
          ]
        }
      ]
    },
    {
      "cell_type": "code",
      "source": [
        "# The return value is still None even though it is printing, just like before:\n",
        "result = input_marco(\"James\")\n",
        "print(result)"
      ],
      "metadata": {
        "colab": {
          "base_uri": "https://localhost:8080/"
        },
        "id": "lujO66Rev6Hr",
        "outputId": "242268d3-4a79-460a-a01f-be76db519007"
      },
      "execution_count": null,
      "outputs": [
        {
          "output_type": "stream",
          "name": "stdout",
          "text": [
            "I don't know you who are you!  try again\n",
            "None\n"
          ]
        }
      ]
    },
    {
      "cell_type": "code",
      "source": [
        "# The return, can be explicit again and thing can happen:\n",
        "def input_marco(name):\n",
        "  if name == \"Marco\":\n",
        "    return True\n",
        "  return False\n",
        "print(input_marco(\"Alfredo\"))\n",
        "print(input_marco(\"Marco\"))"
      ],
      "metadata": {
        "colab": {
          "base_uri": "https://localhost:8080/"
        },
        "id": "YAaNPOd4wJyx",
        "outputId": "6723be88-db42-4317-fb4b-30d7c9773b02"
      },
      "execution_count": null,
      "outputs": [
        {
          "output_type": "stream",
          "name": "stdout",
          "text": [
            "False\n",
            "True\n"
          ]
        }
      ]
    },
    {
      "cell_type": "code",
      "source": [
        "# Don't get confused with closures, they are just nested functions!\n",
        "def name_organizer(name):\n",
        "  def ensure_list(name):\n",
        "    if isinstance(name, list):\n",
        "      return name\n",
        "    else:\n",
        "      return name.split()\n",
        "  firstname, lastname = ensure_list(name)\n",
        "  return {\"firstname\": firstname, \"lastname\": lastname}\n",
        "\n",
        "print(name_organizer(\"Alfredo Deza\"))\n",
        "print(name_organizer([\"Suparuek\", \"Puttakhot\"]))"
      ],
      "metadata": {
        "colab": {
          "base_uri": "https://localhost:8080/"
        },
        "id": "xHrGol9fxfNo",
        "outputId": "0e4c1af5-1735-4fea-9f4c-f74d7053fb27"
      },
      "execution_count": null,
      "outputs": [
        {
          "output_type": "stream",
          "name": "stdout",
          "text": [
            "{'firstname': 'Alfredo', 'lastname': 'Deza'}\n",
            "{'firstname': 'Suparuek', 'lastname': 'Puttakhot'}\n"
          ]
        }
      ]
    },
    {
      "cell_type": "code",
      "source": [
        "# Functions can accept named variables, in this way it is required:\n",
        "def naming (first, last, nickname):\n",
        "    print(f\"{first} {last}, has a nick name as: {nickname}\")\n",
        "\n",
        "# Call the function naming()\n",
        "naming(\"Sup\", \"Per\", \"\")\n",
        "naming(\"Suparuek\", \"Puttakhot\", \"Sup\") \n",
        "#naming(\"Suparuek\", \"Puttakhot\")"
      ],
      "metadata": {
        "colab": {
          "base_uri": "https://localhost:8080/"
        },
        "id": "NZPPsM1I137n",
        "outputId": "6752bad2-8cba-4543-8768-1cd4b1bdc4d4"
      },
      "execution_count": null,
      "outputs": [
        {
          "output_type": "stream",
          "name": "stdout",
          "text": [
            "Sup Per, has a nick name as: \n",
            "Suparuek Puttakhot, has a nick name as: Sup\n"
          ]
        }
      ]
    }
  ]
}