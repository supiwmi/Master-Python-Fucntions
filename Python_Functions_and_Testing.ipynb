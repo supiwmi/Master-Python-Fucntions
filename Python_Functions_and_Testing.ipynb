{
  "nbformat": 4,
  "nbformat_minor": 0,
  "metadata": {
    "colab": {
      "provenance": [],
      "authorship_tag": "ABX9TyPYDS3HqT6Sr9TGaN9KqqFb",
      "include_colab_link": true
    },
    "kernelspec": {
      "name": "python3",
      "display_name": "Python 3"
    },
    "language_info": {
      "name": "python"
    }
  },
  "cells": [
    {
      "cell_type": "markdown",
      "metadata": {
        "id": "view-in-github",
        "colab_type": "text"
      },
      "source": [
        "<a href=\"https://colab.research.google.com/github/supiwmi/Master-Python-Fucntions/blob/main/Python_Functions_and_Testing.ipynb\" target=\"_parent\"><img src=\"https://colab.research.google.com/assets/colab-badge.svg\" alt=\"Open In Colab\"/></a>"
      ]
    },
    {
      "cell_type": "code",
      "execution_count": null,
      "metadata": {
        "id": "WJwVEc7lpP5H"
      },
      "outputs": [],
      "source": []
    },
    {
      "cell_type": "markdown",
      "source": [
        "### Python Functions"
      ],
      "metadata": {
        "id": "Cq7vLLa0pWRD"
      }
    },
    {
      "cell_type": "code",
      "source": [
        "# functions are defined with `def`, name and parens i.e. my_funciton(), and a colon :\n",
        "def my_function():\n",
        "  print(\"This is my function\")\n",
        "  #return 1\n",
        "\n",
        "# you 'call functions with its name:\n",
        "print(my_function())"
      ],
      "metadata": {
        "colab": {
          "base_uri": "https://localhost:8080/"
        },
        "id": "JRQCsGIGpaiB",
        "outputId": "be2abba0-29c6-444a-f631-552b8e327ffd"
      },
      "execution_count": 2,
      "outputs": [
        {
          "output_type": "stream",
          "name": "stdout",
          "text": [
            "This is my function\n",
            "None\n"
          ]
        }
      ]
    }
  ]
}