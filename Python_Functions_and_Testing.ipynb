{
  "nbformat": 4,
  "nbformat_minor": 0,
  "metadata": {
    "colab": {
      "provenance": [],
      "authorship_tag": "ABX9TyMhYkMAZNTzox/sWcgD9fid",
      "include_colab_link": true
    },
    "kernelspec": {
      "name": "python3",
      "display_name": "Python 3"
    },
    "language_info": {
      "name": "python"
    }
  },
  "cells": [
    {
      "cell_type": "markdown",
      "metadata": {
        "id": "view-in-github",
        "colab_type": "text"
      },
      "source": [
        "<a href=\"https://colab.research.google.com/github/supiwmi/Master-Python-Fucntions/blob/dev/Python_Functions_and_Testing.ipynb\" target=\"_parent\"><img src=\"https://colab.research.google.com/assets/colab-badge.svg\" alt=\"Open In Colab\"/></a>"
      ]
    },
    {
      "cell_type": "markdown",
      "source": [
        "### Python Functions"
      ],
      "metadata": {
        "id": "Cq7vLLa0pWRD"
      }
    },
    {
      "cell_type": "code",
      "source": [
        "# functions are defined with `def`, name and parens i.e. my_funciton(), and a colon :\n",
        "def my_function():\n",
        "  print(\"This is my function\")\n",
        "  #return 1\n",
        "\n",
        "# you 'call functions with its name:\n",
        "my_function()\n",
        "#print(my_function())"
      ],
      "metadata": {
        "colab": {
          "base_uri": "https://localhost:8080/"
        },
        "id": "JRQCsGIGpaiB",
        "outputId": "bd58f6ce-fb4c-48d4-e07e-c778193409b2"
      },
      "execution_count": 3,
      "outputs": [
        {
          "output_type": "stream",
          "name": "stdout",
          "text": [
            "This is my function\n"
          ]
        }
      ]
    }
  ]
}